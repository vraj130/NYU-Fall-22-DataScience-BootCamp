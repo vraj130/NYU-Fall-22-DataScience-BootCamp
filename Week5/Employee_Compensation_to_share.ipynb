{
  "cells": [
    {
      "cell_type": "markdown",
      "metadata": {
        "id": "yWUVAxiiRu9f"
      },
      "source": [
        "### Training a Machine Learning model for regression problem "
      ]
    },
    {
      "cell_type": "code",
      "execution_count": 1,
      "metadata": {
        "id": "xhHqjNe1Ru9k"
      },
      "outputs": [],
      "source": [
        "# If you'd like to install packages that aren't installed by default, uncomment the last two lines of this cell and replace <package list> with a list of your packages.\n",
        "# This will ensure your notebook has all the dependencies and works everywhere\n",
        "\n",
        "#import sys\n",
        "#!{sys.executable} -m pip install <package list>"
      ]
    },
    {
      "cell_type": "code",
      "execution_count": 15,
      "metadata": {
        "id": "bUVhkHQgRu9r"
      },
      "outputs": [
        {
          "ename": "ModuleNotFoundError",
          "evalue": "No module named 'missingno'",
          "output_type": "error",
          "traceback": [
            "\u001b[1;31m---------------------------------------------------------------------------\u001b[0m",
            "\u001b[1;31mModuleNotFoundError\u001b[0m                       Traceback (most recent call last)",
            "\u001b[1;32md:\\OneDrive\\Data analytical\\NYU-Fall-22-DataScience-BootCamp\\Week5\\Employee_Compensation_to_share.ipynb Cell 3\u001b[0m in \u001b[0;36m<cell line: 5>\u001b[1;34m()\u001b[0m\n\u001b[0;32m      <a href='vscode-notebook-cell:/d%3A/OneDrive/Data%20analytical/NYU-Fall-22-DataScience-BootCamp/Week5/Employee_Compensation_to_share.ipynb#W2sZmlsZQ%3D%3D?line=2'>3</a>\u001b[0m \u001b[39mimport\u001b[39;00m \u001b[39mpandas\u001b[39;00m \u001b[39mas\u001b[39;00m \u001b[39mpd\u001b[39;00m\n\u001b[0;32m      <a href='vscode-notebook-cell:/d%3A/OneDrive/Data%20analytical/NYU-Fall-22-DataScience-BootCamp/Week5/Employee_Compensation_to_share.ipynb#W2sZmlsZQ%3D%3D?line=3'>4</a>\u001b[0m \u001b[39mimport\u001b[39;00m \u001b[39mnumpy\u001b[39;00m \u001b[39mas\u001b[39;00m \u001b[39mnp\u001b[39;00m\n\u001b[1;32m----> <a href='vscode-notebook-cell:/d%3A/OneDrive/Data%20analytical/NYU-Fall-22-DataScience-BootCamp/Week5/Employee_Compensation_to_share.ipynb#W2sZmlsZQ%3D%3D?line=4'>5</a>\u001b[0m \u001b[39mimport\u001b[39;00m \u001b[39mmissingno\u001b[39;00m \u001b[39mas\u001b[39;00m \u001b[39mmno\u001b[39;00m\n\u001b[0;32m      <a href='vscode-notebook-cell:/d%3A/OneDrive/Data%20analytical/NYU-Fall-22-DataScience-BootCamp/Week5/Employee_Compensation_to_share.ipynb#W2sZmlsZQ%3D%3D?line=5'>6</a>\u001b[0m \u001b[39mimport\u001b[39;00m \u001b[39mseaborn\u001b[39;00m \u001b[39mas\u001b[39;00m \u001b[39msns\u001b[39;00m\n\u001b[0;32m      <a href='vscode-notebook-cell:/d%3A/OneDrive/Data%20analytical/NYU-Fall-22-DataScience-BootCamp/Week5/Employee_Compensation_to_share.ipynb#W2sZmlsZQ%3D%3D?line=6'>7</a>\u001b[0m \u001b[39mfrom\u001b[39;00m \u001b[39msklearn\u001b[39;00m\u001b[39m.\u001b[39;00m\u001b[39mpreprocessing\u001b[39;00m \u001b[39mimport\u001b[39;00m OneHotEncoder, StandardScaler\n",
            "\u001b[1;31mModuleNotFoundError\u001b[0m: No module named 'missingno'"
          ]
        }
      ],
      "source": [
        "#somechange\n",
        "#Libraries\n",
        "import pandas as pd\n",
        "import numpy as np\n",
        "import missingno as mno\n",
        "import seaborn as sns\n",
        "from sklearn.preprocessing import OneHotEncoder, StandardScaler\n",
        "from sklearn.preprocessing import LabelBinarizer, Normalizer\n",
        "import matplotlib.pyplot as plt\n",
        "from sklearn import linear_model\n",
        "from sklearn.metrics import mean_absolute_error\n",
        "import warnings\n",
        "from sklearn.ensemble import RandomForestRegressor\n",
        "from sklearn.tree import DecisionTreeRegressor\n",
        "from sklearn.preprocessing import MinMaxScaler, StandardScaler\n",
        "from sklearn.metrics import mean_squared_log_error\n",
        "from sklearn.linear_model import LinearRegression\n",
        "from sklearn.model_selection import train_test_split\n",
        "from xgboost import XGBRegressor\n",
        "#test\n",
        "warnings.filterwarnings('ignore')\n",
        "pd.set_option(\"display.max_columns\", 101)"
      ]
    },
    {
      "cell_type": "markdown",
      "metadata": {
        "id": "2vioOxdNRu9v"
      },
      "source": [
        "## Data Description"
      ]
    },
    {
      "cell_type": "markdown",
      "metadata": {
        "id": "ztLn1zf6Ru9w"
      },
      "source": [
        "Column | Description\n",
        ":---|:---\n",
        "`id` | Record index\n",
        "`timestamp` | Datetime (YYYY:MM:DD HH:MM:SS) when data was collected\n",
        "`country` | Current country of employment\n",
        "`employment_status` | Whether a candidate is Full time, Part time, Independent or freelancer or company owner\n",
        "`job_title` | Current job title of the candidate\n",
        "`job_years` | Total job experience (in Years)\n",
        "`is_manager` | Whether the candidate holds a managerial position or not (Yes or No)\n",
        "`hours_per_week` | No. of hours per day committed to the current job\n",
        "`telecommute_days_per_week` | No. of telecommuting days per week (working from home)\n",
        "`education` | The highest degree in education the candidate has received\n",
        "`is_education_computer_related` | Is the education related to the field of computer science (Yes or No)\n",
        "`certifications` | Does the candidate have any relevant certifications (Yes or No)\n",
        "`salary` | Monthly Salary (in US $$)"
      ]
    },
    {
      "cell_type": "markdown",
      "metadata": {
        "id": "0aOL82B_Ru9x"
      },
      "source": [
        "## Data Wrangling & Visualization"
      ]
    },
    {
      "cell_type": "code",
      "execution_count": 3,
      "metadata": {
        "id": "uknzSkP0Ru9y"
      },
      "outputs": [],
      "source": [
        "# Dataset is already loaded below\n",
        "data = pd.read_csv(\"train.csv\")"
      ]
    },
    {
      "cell_type": "code",
      "execution_count": 4,
      "metadata": {
        "id": "-RPGEGxjRu91"
      },
      "outputs": [
        {
          "data": {
            "text/plain": [
              "(4277, 13)"
            ]
          },
          "execution_count": 4,
          "metadata": {},
          "output_type": "execute_result"
        }
      ],
      "source": [
        "# Dimensions of training data\n",
        "data.shape"
      ]
    },
    {
      "cell_type": "code",
      "execution_count": 5,
      "metadata": {
        "id": "yTJJ5_68Ru97"
      },
      "outputs": [
        {
          "data": {
            "text/html": [
              "<div>\n",
              "<style scoped>\n",
              "    .dataframe tbody tr th:only-of-type {\n",
              "        vertical-align: middle;\n",
              "    }\n",
              "\n",
              "    .dataframe tbody tr th {\n",
              "        vertical-align: top;\n",
              "    }\n",
              "\n",
              "    .dataframe thead th {\n",
              "        text-align: right;\n",
              "    }\n",
              "</style>\n",
              "<table border=\"1\" class=\"dataframe\">\n",
              "  <thead>\n",
              "    <tr style=\"text-align: right;\">\n",
              "      <th></th>\n",
              "      <th>id</th>\n",
              "      <th>timestamp</th>\n",
              "      <th>country</th>\n",
              "      <th>employment_status</th>\n",
              "      <th>job_title</th>\n",
              "      <th>job_years</th>\n",
              "      <th>is_manager</th>\n",
              "      <th>hours_per_week</th>\n",
              "      <th>telecommute_days_per_week</th>\n",
              "      <th>education</th>\n",
              "      <th>is_education_computer_related</th>\n",
              "      <th>certifications</th>\n",
              "      <th>salary</th>\n",
              "    </tr>\n",
              "  </thead>\n",
              "  <tbody>\n",
              "    <tr>\n",
              "      <th>0</th>\n",
              "      <td>1</td>\n",
              "      <td>12/11/2018 10:52:26</td>\n",
              "      <td>Slovenia</td>\n",
              "      <td>Full time</td>\n",
              "      <td>Developer</td>\n",
              "      <td>4.78393</td>\n",
              "      <td>Yes</td>\n",
              "      <td>40.0</td>\n",
              "      <td>0.0</td>\n",
              "      <td>Bachelors (4 years)</td>\n",
              "      <td>Yes</td>\n",
              "      <td>No</td>\n",
              "      <td>7187.743094</td>\n",
              "    </tr>\n",
              "    <tr>\n",
              "      <th>1</th>\n",
              "      <td>2</td>\n",
              "      <td>1/5/2017 16:57:50</td>\n",
              "      <td>United States</td>\n",
              "      <td>Full time</td>\n",
              "      <td>DBA</td>\n",
              "      <td>5.00000</td>\n",
              "      <td>No</td>\n",
              "      <td>40.0</td>\n",
              "      <td>5.0</td>\n",
              "      <td>Bachelors (4 years)</td>\n",
              "      <td>Yes</td>\n",
              "      <td>No</td>\n",
              "      <td>10000.000000</td>\n",
              "    </tr>\n",
              "    <tr>\n",
              "      <th>2</th>\n",
              "      <td>3</td>\n",
              "      <td>12/18/2017 8:13:15</td>\n",
              "      <td>Sweden</td>\n",
              "      <td>Full time</td>\n",
              "      <td>DBA</td>\n",
              "      <td>1.00000</td>\n",
              "      <td>No</td>\n",
              "      <td>40.0</td>\n",
              "      <td>0.0</td>\n",
              "      <td>Masters</td>\n",
              "      <td>Yes</td>\n",
              "      <td>Yes</td>\n",
              "      <td>7000.000000</td>\n",
              "    </tr>\n",
              "    <tr>\n",
              "      <th>3</th>\n",
              "      <td>4</td>\n",
              "      <td>12/27/2018 4:56:52</td>\n",
              "      <td>United States</td>\n",
              "      <td>Full time</td>\n",
              "      <td>DBA</td>\n",
              "      <td>1.00000</td>\n",
              "      <td>No</td>\n",
              "      <td>40.0</td>\n",
              "      <td>2.0</td>\n",
              "      <td>Bachelors (4 years)</td>\n",
              "      <td>No</td>\n",
              "      <td>No</td>\n",
              "      <td>8333.000000</td>\n",
              "    </tr>\n",
              "    <tr>\n",
              "      <th>4</th>\n",
              "      <td>5</td>\n",
              "      <td>12/11/2018 14:07:58</td>\n",
              "      <td>United States</td>\n",
              "      <td>Full time</td>\n",
              "      <td>Developer</td>\n",
              "      <td>3.00000</td>\n",
              "      <td>No</td>\n",
              "      <td>40.0</td>\n",
              "      <td>2.0</td>\n",
              "      <td>Masters</td>\n",
              "      <td>Yes</td>\n",
              "      <td>Yes</td>\n",
              "      <td>7137.000000</td>\n",
              "    </tr>\n",
              "  </tbody>\n",
              "</table>\n",
              "</div>"
            ],
            "text/plain": [
              "   id            timestamp        country employment_status  job_title  \\\n",
              "0   1  12/11/2018 10:52:26       Slovenia         Full time  Developer   \n",
              "1   2    1/5/2017 16:57:50  United States         Full time        DBA   \n",
              "2   3   12/18/2017 8:13:15         Sweden         Full time        DBA   \n",
              "3   4   12/27/2018 4:56:52  United States         Full time        DBA   \n",
              "4   5  12/11/2018 14:07:58  United States         Full time  Developer   \n",
              "\n",
              "   job_years is_manager  hours_per_week  telecommute_days_per_week  \\\n",
              "0    4.78393        Yes            40.0                        0.0   \n",
              "1    5.00000         No            40.0                        5.0   \n",
              "2    1.00000         No            40.0                        0.0   \n",
              "3    1.00000         No            40.0                        2.0   \n",
              "4    3.00000         No            40.0                        2.0   \n",
              "\n",
              "             education is_education_computer_related certifications  \\\n",
              "0  Bachelors (4 years)                           Yes             No   \n",
              "1  Bachelors (4 years)                           Yes             No   \n",
              "2              Masters                           Yes            Yes   \n",
              "3  Bachelors (4 years)                            No             No   \n",
              "4              Masters                           Yes            Yes   \n",
              "\n",
              "         salary  \n",
              "0   7187.743094  \n",
              "1  10000.000000  \n",
              "2   7000.000000  \n",
              "3   8333.000000  \n",
              "4   7137.000000  "
            ]
          },
          "execution_count": 5,
          "metadata": {},
          "output_type": "execute_result"
        }
      ],
      "source": [
        "# Print first few rows of data\n",
        "data.head()"
      ]
    },
    {
      "cell_type": "code",
      "execution_count": 6,
      "metadata": {
        "id": "i-wzY-21Ru9_"
      },
      "outputs": [
        {
          "data": {
            "text/plain": [
              "Index(['id', 'timestamp', 'country', 'employment_status', 'job_title',\n",
              "       'job_years', 'is_manager', 'hours_per_week',\n",
              "       'telecommute_days_per_week', 'education',\n",
              "       'is_education_computer_related', 'certifications', 'salary'],\n",
              "      dtype='object')"
            ]
          },
          "execution_count": 6,
          "metadata": {},
          "output_type": "execute_result"
        }
      ],
      "source": [
        "# Explore columns\n",
        "data.columns"
      ]
    },
    {
      "cell_type": "code",
      "execution_count": 7,
      "metadata": {
        "id": "dKVtaBgbRu-D",
        "scrolled": true
      },
      "outputs": [
        {
          "data": {
            "text/html": [
              "<div>\n",
              "<style scoped>\n",
              "    .dataframe tbody tr th:only-of-type {\n",
              "        vertical-align: middle;\n",
              "    }\n",
              "\n",
              "    .dataframe tbody tr th {\n",
              "        vertical-align: top;\n",
              "    }\n",
              "\n",
              "    .dataframe thead th {\n",
              "        text-align: right;\n",
              "    }\n",
              "</style>\n",
              "<table border=\"1\" class=\"dataframe\">\n",
              "  <thead>\n",
              "    <tr style=\"text-align: right;\">\n",
              "      <th></th>\n",
              "      <th>id</th>\n",
              "      <th>job_years</th>\n",
              "      <th>hours_per_week</th>\n",
              "      <th>telecommute_days_per_week</th>\n",
              "      <th>salary</th>\n",
              "    </tr>\n",
              "  </thead>\n",
              "  <tbody>\n",
              "    <tr>\n",
              "      <th>count</th>\n",
              "      <td>4277.00000</td>\n",
              "      <td>4277.000000</td>\n",
              "      <td>4260.000000</td>\n",
              "      <td>4266.000000</td>\n",
              "      <td>4277.000000</td>\n",
              "    </tr>\n",
              "    <tr>\n",
              "      <th>mean</th>\n",
              "      <td>2139.00000</td>\n",
              "      <td>4.479697</td>\n",
              "      <td>40.859110</td>\n",
              "      <td>1.034927</td>\n",
              "      <td>7057.701984</td>\n",
              "    </tr>\n",
              "    <tr>\n",
              "      <th>std</th>\n",
              "      <td>1234.80788</td>\n",
              "      <td>1.990783</td>\n",
              "      <td>1.754911</td>\n",
              "      <td>1.651160</td>\n",
              "      <td>1308.572568</td>\n",
              "    </tr>\n",
              "    <tr>\n",
              "      <th>min</th>\n",
              "      <td>1.00000</td>\n",
              "      <td>0.000000</td>\n",
              "      <td>37.000000</td>\n",
              "      <td>0.000000</td>\n",
              "      <td>3622.000000</td>\n",
              "    </tr>\n",
              "    <tr>\n",
              "      <th>25%</th>\n",
              "      <td>1070.00000</td>\n",
              "      <td>3.407156</td>\n",
              "      <td>40.000000</td>\n",
              "      <td>0.000000</td>\n",
              "      <td>6496.788236</td>\n",
              "    </tr>\n",
              "    <tr>\n",
              "      <th>50%</th>\n",
              "      <td>2139.00000</td>\n",
              "      <td>4.640830</td>\n",
              "      <td>40.000000</td>\n",
              "      <td>0.000000</td>\n",
              "      <td>7166.000000</td>\n",
              "    </tr>\n",
              "    <tr>\n",
              "      <th>75%</th>\n",
              "      <td>3208.00000</td>\n",
              "      <td>5.000000</td>\n",
              "      <td>41.114138</td>\n",
              "      <td>1.000000</td>\n",
              "      <td>7614.831964</td>\n",
              "    </tr>\n",
              "    <tr>\n",
              "      <th>max</th>\n",
              "      <td>4277.00000</td>\n",
              "      <td>10.000000</td>\n",
              "      <td>45.000000</td>\n",
              "      <td>5.000000</td>\n",
              "      <td>10625.000000</td>\n",
              "    </tr>\n",
              "  </tbody>\n",
              "</table>\n",
              "</div>"
            ],
            "text/plain": [
              "               id    job_years  hours_per_week  telecommute_days_per_week  \\\n",
              "count  4277.00000  4277.000000     4260.000000                4266.000000   \n",
              "mean   2139.00000     4.479697       40.859110                   1.034927   \n",
              "std    1234.80788     1.990783        1.754911                   1.651160   \n",
              "min       1.00000     0.000000       37.000000                   0.000000   \n",
              "25%    1070.00000     3.407156       40.000000                   0.000000   \n",
              "50%    2139.00000     4.640830       40.000000                   0.000000   \n",
              "75%    3208.00000     5.000000       41.114138                   1.000000   \n",
              "max    4277.00000    10.000000       45.000000                   5.000000   \n",
              "\n",
              "             salary  \n",
              "count   4277.000000  \n",
              "mean    7057.701984  \n",
              "std     1308.572568  \n",
              "min     3622.000000  \n",
              "25%     6496.788236  \n",
              "50%     7166.000000  \n",
              "75%     7614.831964  \n",
              "max    10625.000000  "
            ]
          },
          "execution_count": 7,
          "metadata": {},
          "output_type": "execute_result"
        }
      ],
      "source": [
        "# Description\n",
        "data.describe()"
      ]
    },
    {
      "cell_type": "code",
      "execution_count": 8,
      "metadata": {
        "id": "wATW7SYBRu-G"
      },
      "outputs": [
        {
          "name": "stdout",
          "output_type": "stream",
          "text": [
            "<class 'pandas.core.frame.DataFrame'>\n",
            "RangeIndex: 4277 entries, 0 to 4276\n",
            "Data columns (total 13 columns):\n",
            " #   Column                         Non-Null Count  Dtype  \n",
            "---  ------                         --------------  -----  \n",
            " 0   id                             4277 non-null   int64  \n",
            " 1   timestamp                      4277 non-null   object \n",
            " 2   country                        4277 non-null   object \n",
            " 3   employment_status              4277 non-null   object \n",
            " 4   job_title                      4277 non-null   object \n",
            " 5   job_years                      4277 non-null   float64\n",
            " 6   is_manager                     4277 non-null   object \n",
            " 7   hours_per_week                 4260 non-null   float64\n",
            " 8   telecommute_days_per_week      4266 non-null   float64\n",
            " 9   education                      4277 non-null   object \n",
            " 10  is_education_computer_related  4261 non-null   object \n",
            " 11  certifications                 4277 non-null   object \n",
            " 12  salary                         4277 non-null   float64\n",
            "dtypes: float64(4), int64(1), object(8)\n",
            "memory usage: 434.5+ KB\n"
          ]
        }
      ],
      "source": [
        "# Info\n",
        "data.info()"
      ]
    },
    {
      "cell_type": "code",
      "execution_count": 9,
      "metadata": {
        "id": "LFtZHgR9Ru-K",
        "scrolled": false
      },
      "outputs": [
        {
          "data": {
            "text/plain": [
              "id                                 int64\n",
              "timestamp                         object\n",
              "country                           object\n",
              "employment_status                 object\n",
              "job_title                         object\n",
              "job_years                        float64\n",
              "is_manager                        object\n",
              "hours_per_week                   float64\n",
              "telecommute_days_per_week        float64\n",
              "education                         object\n",
              "is_education_computer_related     object\n",
              "certifications                    object\n",
              "salary                           float64\n",
              "dtype: object"
            ]
          },
          "execution_count": 9,
          "metadata": {},
          "output_type": "execute_result"
        }
      ],
      "source": [
        "# Check Datatypes\n",
        "data.dtypes"
      ]
    },
    {
      "cell_type": "code",
      "execution_count": 10,
      "metadata": {
        "id": "DTFRZapvRu-R",
        "scrolled": true
      },
      "outputs": [
        {
          "data": {
            "text/plain": [
              "id                                0\n",
              "timestamp                         0\n",
              "country                           0\n",
              "employment_status                 0\n",
              "job_title                         0\n",
              "job_years                         0\n",
              "is_manager                        0\n",
              "hours_per_week                   17\n",
              "telecommute_days_per_week        11\n",
              "education                         0\n",
              "is_education_computer_related    16\n",
              "certifications                    0\n",
              "salary                            0\n",
              "dtype: int64"
            ]
          },
          "execution_count": 10,
          "metadata": {},
          "output_type": "execute_result"
        }
      ],
      "source": [
        "# Print total missing values in each column\n",
        "data.isnull().sum()"
      ]
    },
    {
      "cell_type": "code",
      "execution_count": 11,
      "metadata": {
        "id": "Hv8VctNfTZp7"
      },
      "outputs": [
        {
          "ename": "NameError",
          "evalue": "name 'mno' is not defined",
          "output_type": "error",
          "traceback": [
            "\u001b[1;31m---------------------------------------------------------------------------\u001b[0m",
            "\u001b[1;31mNameError\u001b[0m                                 Traceback (most recent call last)",
            "\u001b[1;32md:\\OneDrive\\Data analytical\\NYU-Fall-22-DataScience-BootCamp\\Week5\\Employee_Compensation_to_share.ipynb Cell 15\u001b[0m in \u001b[0;36m<cell line: 2>\u001b[1;34m()\u001b[0m\n\u001b[0;32m      <a href='vscode-notebook-cell:/d%3A/OneDrive/Data%20analytical/NYU-Fall-22-DataScience-BootCamp/Week5/Employee_Compensation_to_share.ipynb#X20sZmlsZQ%3D%3D?line=0'>1</a>\u001b[0m \u001b[39m## Check the distribution for the null values\u001b[39;00m\n\u001b[1;32m----> <a href='vscode-notebook-cell:/d%3A/OneDrive/Data%20analytical/NYU-Fall-22-DataScience-BootCamp/Week5/Employee_Compensation_to_share.ipynb#X20sZmlsZQ%3D%3D?line=1'>2</a>\u001b[0m mno\u001b[39m.\u001b[39mmatrix(data, figsize \u001b[39m=\u001b[39m (\u001b[39m20\u001b[39m, \u001b[39m6\u001b[39m))\n",
            "\u001b[1;31mNameError\u001b[0m: name 'mno' is not defined"
          ]
        }
      ],
      "source": [
        "## Check the distribution for the null values\n",
        "mno.matrix(data, figsize = (20, 6))"
      ]
    },
    {
      "cell_type": "code",
      "execution_count": 12,
      "metadata": {
        "id": "9MtVUnRGRu-Y"
      },
      "outputs": [],
      "source": [
        "# replace NANs in hours_per_week with median value of the column  \n",
        "data.loc[data['hours_per_week'].isna(), 'hours_per_week'] = data['hours_per_week'].median()\n",
        "data.loc[data['telecommute_days_per_week'].isna(), 'telecommute_days_per_week'] = data['telecommute_days_per_week'].median()"
      ]
    },
    {
      "cell_type": "markdown",
      "metadata": {},
      "source": [
        "# Somechange"
      ]
    },
    {
      "cell_type": "markdown",
      "metadata": {
        "id": "O1tkT_hbRu-b"
      },
      "source": [
        "##### Next We have the some missing values in is_education_computer_related column which is a categorical variable. So we can't just impute these missing values. Best way to deal with it is to remove all rows for which this column has a nan."
      ]
    },
    {
      "cell_type": "code",
      "execution_count": null,
      "metadata": {
        "id": "EeTETmz1Ru-d"
      },
      "outputs": [],
      "source": [
        "# drop missing vals\n",
        "data = data.dropna()"
      ]
    },
    {
      "cell_type": "code",
      "execution_count": null,
      "metadata": {
        "id": "yOodMqPyRu-g",
        "scrolled": false
      },
      "outputs": [],
      "source": [
        "# now check total missing vals in every column\n",
        "data.isnull().sum()"
      ]
    },
    {
      "cell_type": "code",
      "execution_count": null,
      "metadata": {
        "id": "kpT6bvWDRu-k",
        "scrolled": false
      },
      "outputs": [],
      "source": [
        "# Confirm that all missing values are gone.\n",
        "mno.matrix(data, figsize = (20, 6))"
      ]
    },
    {
      "cell_type": "markdown",
      "metadata": {
        "id": "RniPI_YJRu-n"
      },
      "source": [
        "## Visualization, Modeling, Machine Learning\n",
        "\n",
        "Build a model that can predict salary and identify how different features influence their decision? Please explain your findings effectively to technical and non-technical audiences using comments and visualizations, if appropriate.\n",
        "- **Build an optimized model that effectively solves the business problem.**\n",
        "- **The model would be evaluated on the basis of mean absolute error.**\n",
        "- **Read the test.csv file and prepare features for testing.**"
      ]
    },
    {
      "cell_type": "code",
      "execution_count": null,
      "metadata": {
        "id": "QZKhZ_klRu-o",
        "scrolled": true
      },
      "outputs": [],
      "source": [
        "# Loading Test data\n",
        "test = pd.read_csv('test.csv')\n",
        "test.shape"
      ]
    },
    {
      "cell_type": "code",
      "execution_count": null,
      "metadata": {
        "id": "VnSSLHUORu-q",
        "scrolled": true
      },
      "outputs": [],
      "source": [
        "# Print first couple of rows of test data\n",
        "test.head()"
      ]
    },
    {
      "cell_type": "code",
      "execution_count": null,
      "metadata": {
        "id": "hxndvA1gRu-t"
      },
      "outputs": [],
      "source": [
        "# check if there are any missing vals in test data or not\n",
        "test.isnull().sum()"
      ]
    },
    {
      "cell_type": "code",
      "execution_count": null,
      "metadata": {
        "id": "MN9M_T51Ru-w"
      },
      "outputs": [],
      "source": [
        "# impute missing vals in hours_per_week column in test data with median value \n",
        "test.loc[test['hours_per_week'].isna(), 'hours_per_week'] = test['hours_per_week'].median()"
      ]
    },
    {
      "cell_type": "code",
      "execution_count": null,
      "metadata": {
        "id": "zKd6cwEgRu-z",
        "scrolled": false
      },
      "outputs": [],
      "source": [
        "# Confirm that all missing values are gone in test data.\n",
        "mno.matrix(test, figsize = (20, 6))"
      ]
    },
    {
      "cell_type": "code",
      "execution_count": null,
      "metadata": {
        "id": "t2lQAGgVRu-2"
      },
      "outputs": [],
      "source": [
        "# let's encode the categorical features in data only for analysis\n",
        "\n",
        "train_data = data.copy()\n",
        "\n",
        "cols = ['employment_status', 'job_title', 'is_manager', 'certifications', \n",
        "        'education', 'is_education_computer_related']\n",
        "\n",
        "for c in cols: # traverse each column\n",
        "    for i, item in enumerate(train_data[c].unique().tolist()): \n",
        "      ## for a column create traverse all unique values in it using 'item'\n",
        "        train_data.loc[train_data[c] == item, c] = i\n",
        "\n",
        "    print(\"Actual values in column:\", c, \"\\n\",  data[c].unique().tolist(), '\\n')\n",
        "    print(\"Encoded values in column:\", c, \"\\n\", train_data[c].unique().tolist(), '\\n')"
      ]
    },
    {
      "cell_type": "code",
      "execution_count": null,
      "metadata": {
        "id": "6vdSy8ENeU1F"
      },
      "outputs": [],
      "source": [
        "train_data.columns"
      ]
    },
    {
      "cell_type": "markdown",
      "metadata": {
        "id": "WuFqEPktRu-5"
      },
      "source": [
        "### Visualizations"
      ]
    },
    {
      "cell_type": "code",
      "execution_count": null,
      "metadata": {
        "id": "Y7WcaeLuRu-6",
        "scrolled": false
      },
      "outputs": [],
      "source": [
        "# joint plots for numeric variables\n",
        "\n",
        "cols = [\"job_years\", \"hours_per_week\"]\n",
        "for c in cols:\n",
        "    sns.jointplot(x=c, y=\"salary\", data=data, kind = 'reg', height = 5)\n",
        "plt.show()"
      ]
    },
    {
      "cell_type": "markdown",
      "metadata": {
        "id": "Vqc0bKuGRu-9"
      },
      "source": [
        "##### From the plots above we can clearly see that job_years has a relation with salary. The more job_years means more monthly earning(salary). Similar trend is visible for hours_per_week variable in relation to the target variable (salary)."
      ]
    },
    {
      "cell_type": "code",
      "execution_count": null,
      "metadata": {
        "id": "Y_doKJzrRu--",
        "scrolled": false
      },
      "outputs": [],
      "source": [
        "# dist plots for numeric variables\n",
        "cols = [\"job_years\", \"hours_per_week\"]\n",
        "for c in cols:\n",
        "    sns.distplot(data[c])\n",
        "    plt.grid()\n",
        "    plt.show()"
      ]
    },
    {
      "cell_type": "markdown",
      "metadata": {
        "id": "BsHOe3d1Ru_C"
      },
      "source": [
        "##### The distributions plotted above are interesting. For job_years, we see a slightly skewed distribution which shows that majority of professionals in our data have less than 10 years of total job experience. For hours_per_week we see a somewhat bimdal distribution showing that most people work from 40 to 45 hours per week."
      ]
    },
    {
      "cell_type": "code",
      "execution_count": null,
      "metadata": {
        "id": "wrL-_iFmRu_C",
        "scrolled": false
      },
      "outputs": [],
      "source": [
        "# distribution of target variable\n",
        "sns.distplot(data['salary'])\n",
        "plt.grid()\n",
        "plt.title('Distribution of Target Variable in Data')\n",
        "plt.show()\n",
        "print('max:', np.max(data['salary']))\n",
        "print('min:', np.min(data['salary']))"
      ]
    },
    {
      "cell_type": "markdown",
      "metadata": {
        "id": "tptL12j7Ru_F"
      },
      "source": [
        "##### For target variable i.e. salary we can see a smooth normal distribution with a bulge at the mean salary point."
      ]
    },
    {
      "cell_type": "code",
      "execution_count": null,
      "metadata": {
        "id": "4_qRi9KuRu_G",
        "scrolled": false
      },
      "outputs": [],
      "source": [
        "# bar plots for categorical features\n",
        "cols = ['employment_status', 'job_title', 'is_manager', 'certifications', \n",
        "        'telecommute_days_per_week', 'education']\n",
        "\n",
        "fig, axes = plt.subplots(3, 2, figsize=(16, 16))\n",
        "\n",
        "for i, c in enumerate(cols):\n",
        "    ax = axes.ravel()[i]\n",
        "    sns.barplot(x=c, y=\"salary\", ax=ax, data=train_data)"
      ]
    },
    {
      "cell_type": "code",
      "execution_count": null,
      "metadata": {
        "id": "EqyVJ13SRu_I"
      },
      "outputs": [],
      "source": [
        "# print actual values for encoded labels of a column against which salary is highest\n",
        "print(data['employment_status'].unique().tolist()[1])\n",
        "print(data['job_title'].unique().tolist()[11])\n",
        "print(data['is_manager'].unique().tolist()[0])\n",
        "print(data['certifications'].unique().tolist()[1])\n",
        "print(data['telecommute_days_per_week'].unique().tolist()[5])\n",
        "print(data['education'].unique().tolist()[0])"
      ]
    },
    {
      "cell_type": "markdown",
      "metadata": {
        "id": "U2WxcyM-Ru_L"
      },
      "source": [
        "#####  We see the following trends from above plots:\n",
        "1. People with employment_status = 1 i.e. 'Independent consultant, contractor, freelancer,  or company owner' earn more than full and half time employees. \n",
        "2. People with job_title Sr Consultant earn more than other professionals. \n",
        "3. We also see that people who hold manegrial positions earn more than those who don't.\n",
        "4. People with certifications have little difference in monthly salary than those who don't. \n",
        "5. For people having 3 or more telecommute_days_per_week, have higher salaries which might suggest that these people are actually independent contractors or freelancers. \n",
        "6. As for education, the trend shows taht people with a Bachelors degree of 4 years earn more as compared to others. "
      ]
    },
    {
      "cell_type": "code",
      "execution_count": null,
      "metadata": {
        "id": "77pWJeBjefu_"
      },
      "outputs": [],
      "source": [
        "train_data.columns"
      ]
    },
    {
      "cell_type": "code",
      "execution_count": null,
      "metadata": {
        "id": "yE5DM9CbRu_M",
        "scrolled": false
      },
      "outputs": [],
      "source": [
        "plt.figure(figsize = (15,10))\n",
        "sns.heatmap(train_data.corr(), cmap=\"CMRmap\", annot=True)\n",
        "plt.show()"
      ]
    },
    {
      "cell_type": "markdown",
      "metadata": {
        "id": "Lg-CACeYRu_Q"
      },
      "source": [
        "##### The correlation matrix above shows that there is no correlation among the features."
      ]
    },
    {
      "cell_type": "markdown",
      "metadata": {
        "id": "UvbUS5c5Ru_R"
      },
      "source": [
        "### Feature Encoding and Normalization"
      ]
    },
    {
      "cell_type": "markdown",
      "metadata": {
        "id": "wBYOC-ybRu_S"
      },
      "source": [
        "Before training the model, we should perform one-hot encoding for all categorical/discrete variables, normalize continuous variables and then combine all data to form the training set."
      ]
    },
    {
      "cell_type": "code",
      "execution_count": null,
      "metadata": {
        "id": "-4dwoGyQjuOX"
      },
      "outputs": [],
      "source": [
        "# create another copy of dataset and append encoded features to it\n",
        "data_train = data.copy()\n",
        "\n",
        "data_train.head()"
      ]
    },
    {
      "cell_type": "code",
      "execution_count": null,
      "metadata": {
        "id": "WFmPoM11Ru_T"
      },
      "outputs": [],
      "source": [
        "# drop id, timestamp and country columns\n",
        "data_train = data_train.drop(columns=['id', 'timestamp'])"
      ]
    },
    {
      "cell_type": "code",
      "execution_count": null,
      "metadata": {
        "id": "Mg3oQCmpRu_W"
      },
      "outputs": [],
      "source": [
        "# select categorical features\n",
        "cat_cols = [c for c in data_train.columns if data_train[c].dtype == 'object' \n",
        "            and c not in ['is_manager', 'certifications']]\n",
        "cat_data = data_train[cat_cols]\n",
        "cat_cols\n"
      ]
    },
    {
      "cell_type": "code",
      "execution_count": null,
      "metadata": {
        "id": "mSihDloIqYsB"
      },
      "outputs": [],
      "source": [
        "data_train.shape"
      ]
    },
    {
      "cell_type": "code",
      "execution_count": null,
      "metadata": {
        "id": "RTWQSYebRu_a"
      },
      "outputs": [],
      "source": [
        "# encode binary variables\n",
        "binary_cols = ['is_manager', 'certifications']\n",
        "for c in binary_cols:\n",
        "    data_train[c] = data_train[c].replace(to_replace=['Yes'], value=1)\n",
        "    data_train[c] = data_train[c].replace(to_replace=['No'], value=0)"
      ]
    },
    {
      "cell_type": "code",
      "execution_count": null,
      "metadata": {
        "id": "EYsSvv5JfsEp"
      },
      "outputs": [],
      "source": [
        "final_data = pd.get_dummies(data_train, columns=cat_cols, drop_first= True)\n",
        "\n",
        "final_data.shape"
      ]
    },
    {
      "cell_type": "code",
      "execution_count": null,
      "metadata": {
        "id": "zbivTfzhgAnG"
      },
      "outputs": [],
      "source": [
        "final_data.head()"
      ]
    },
    {
      "cell_type": "code",
      "execution_count": null,
      "metadata": {
        "id": "7I6hzqcakErT"
      },
      "outputs": [],
      "source": [
        "data_train.columns"
      ]
    },
    {
      "cell_type": "code",
      "execution_count": null,
      "metadata": {
        "id": "xLH7T_t4Ru_n",
        "scrolled": true
      },
      "outputs": [],
      "source": [
        "# # adding remaining cols\n",
        "# for c in data_train.columns:\n",
        "#     final_data[c] = data_train[c].values\n",
        "\n",
        "# print(final_data.shape)"
      ]
    },
    {
      "cell_type": "code",
      "execution_count": null,
      "metadata": {
        "id": "3DaLOGRlRu_q"
      },
      "outputs": [],
      "source": [
        "# select numerical features\n",
        "num_cols = [c for c in data_train.columns if c not in cat_cols and c not in binary_cols and c != 'salary']\n",
        "num_cols"
      ]
    },
    {
      "cell_type": "code",
      "execution_count": null,
      "metadata": {
        "id": "nn_xjIt1Ru_u"
      },
      "outputs": [],
      "source": [
        "# Apply standard scaling on numeric data \n",
        "scaler = StandardScaler()\n",
        "scaler.fit(final_data[num_cols])\n",
        "final_data[num_cols] = scaler.transform(final_data[num_cols])"
      ]
    },
    {
      "cell_type": "markdown",
      "metadata": {
        "id": "yejqgyACRu_3"
      },
      "source": [
        "\n",
        "\n",
        "**The management wants to know the most important features for the model.**\n",
        "\n",
        "> #### Task:\n",
        "- **Visualize the top 20 features and their feature importance.**\n"
      ]
    },
    {
      "cell_type": "markdown",
      "metadata": {
        "id": "qj8Vm6wSRu_4"
      },
      "source": [
        "### Train Test Split"
      ]
    },
    {
      "cell_type": "code",
      "execution_count": null,
      "metadata": {
        "id": "nGDS_--IRu_4",
        "scrolled": true
      },
      "outputs": [],
      "source": [
        "y = final_data['salary']\n",
        "X = final_data.drop(columns=['salary'])\n",
        "\n",
        "X_train, X_test, y_train, y_test = train_test_split(X, y, test_size=0.2)\n",
        "print(\"Training Set Dimensions:\", X_train.shape)\n",
        "print(\"Validation Set Dimensions:\", X_test.shape)"
      ]
    },
    {
      "cell_type": "code",
      "execution_count": null,
      "metadata": {
        "id": "zwb5m0GJsFMP"
      },
      "outputs": [],
      "source": [
        "X_train"
      ]
    },
    {
      "cell_type": "markdown",
      "metadata": {
        "id": "81BdZzdxRu_7"
      },
      "source": [
        "### Model Training"
      ]
    },
    {
      "cell_type": "code",
      "execution_count": null,
      "metadata": {
        "id": "FlXExtlSRu_8"
      },
      "outputs": [],
      "source": [
        "# train random forest regression model\n",
        "randomf = RandomForestRegressor()\n",
        "\n",
        "randomf.fit(X_train, y_train)"
      ]
    },
    {
      "cell_type": "code",
      "execution_count": null,
      "metadata": {
        "id": "Q-PKMzMtRu__"
      },
      "outputs": [],
      "source": [
        "print('MAPE for train set:', np.mean(np.abs((y_train - randomf.predict(X_train))) / y_train) * 100)\n",
        "print('MAPE for validation set:', np.mean(np.abs((y_test - randomf.predict(X_test))) / y_test) * 100)"
      ]
    },
    {
      "cell_type": "code",
      "execution_count": null,
      "metadata": {
        "id": "wcMzM8PXRvAF",
        "scrolled": false
      },
      "outputs": [],
      "source": [
        "# compute feature importance from random forest regression model\n",
        "feature_imp=pd.DataFrame()\n",
        "for feature,imp in zip(X_train.columns,randomf.feature_importances_):\n",
        "    temp=pd.DataFrame([feature,imp]).T\n",
        "    feature_imp=feature_imp.append(temp)\n",
        "feature_imp.columns=['feature','relative_importance']\n",
        "feature_imp.sort_values(by='relative_importance',inplace=True)\n",
        "feature_imp.set_index('feature',inplace=True)\n",
        "feature_imp.iloc[-20:,:].plot(kind='barh',figsize=(10,8))\n",
        "plt.show()"
      ]
    },
    {
      "cell_type": "markdown",
      "metadata": {
        "id": "iU2GK5vrRvAH"
      },
      "source": [
        "> #### Task:\n",
        "- **Submit the predictions on the test dataset using the optimized model** <br/>\n",
        "    For each record in the test set (`test.csv`), predict the value of the `salary` variable. Submit a CSV file with a header row and one row per test entry. \n",
        "\n",
        "The file (`submissions.csv`) should have exactly 2 columns:\n",
        "   - **id**\n",
        "   - **salary**"
      ]
    },
    {
      "cell_type": "markdown",
      "metadata": {
        "id": "HDtMTDxSRvAJ"
      },
      "source": [
        "### Encode and Normalize features of Test Data"
      ]
    },
    {
      "cell_type": "code",
      "execution_count": null,
      "metadata": {
        "id": "p9VHPJ2oRvAK"
      },
      "outputs": [],
      "source": [
        "# store ids and drop column\n",
        "test_data = test.copy()\n",
        "ids = test_data['id']\n",
        "test_data = test_data.drop(columns=['id', 'timestamp'])"
      ]
    },
    {
      "cell_type": "code",
      "execution_count": null,
      "metadata": {
        "id": "zwjF-xHJRvAP"
      },
      "outputs": [],
      "source": [
        "# encode binary variables\n",
        "binary_cols = ['is_manager', 'certifications']\n",
        "for c in binary_cols:\n",
        "    test_data[c] = test_data[c].replace(to_replace=['Yes'], value=1)\n",
        "    test_data[c] = test_data[c].replace(to_replace=['No'], value=0)\n",
        "\n",
        "test_data.shape"
      ]
    },
    {
      "cell_type": "code",
      "execution_count": null,
      "metadata": {
        "id": "JJwWje5HktIn"
      },
      "outputs": [],
      "source": [
        "encoded_test_data = pd.get_dummies(test_data, columns=cat_cols, drop_first= True)\n",
        "\n",
        "encoded_test_data.shape"
      ]
    },
    {
      "cell_type": "code",
      "execution_count": null,
      "metadata": {
        "id": "Ez5ASc_eqJIa"
      },
      "outputs": [],
      "source": []
    },
    {
      "cell_type": "code",
      "execution_count": null,
      "metadata": {
        "id": "x0bYRcjsRvAc"
      },
      "outputs": [],
      "source": [
        "# # adding remaining cols\n",
        "# for c in test_data.columns:\n",
        "#     encoded_test_data[c] = test_data[c].values\n",
        "\n",
        "# print(encoded_test_data.shape)\n",
        "# print(encoded_test_data.isnull().values.any())"
      ]
    },
    {
      "cell_type": "code",
      "execution_count": null,
      "metadata": {
        "id": "uwzpoOmdRvAe"
      },
      "outputs": [],
      "source": [
        "# standardize test data\n",
        "encoded_test_data[num_cols] = scaler.transform(encoded_test_data[num_cols])\n",
        "encoded_test_data"
      ]
    }
  ],
  "metadata": {
    "colab": {
      "collapsed_sections": [
        "yejqgyACRu_3",
        "iU2GK5vrRvAH"
      ],
      "provenance": []
    },
    "kernelspec": {
      "display_name": "Python 3.9.12 ('base')",
      "language": "python",
      "name": "python3"
    },
    "language_info": {
      "codemirror_mode": {
        "name": "ipython",
        "version": 3
      },
      "file_extension": ".py",
      "mimetype": "text/x-python",
      "name": "python",
      "nbconvert_exporter": "python",
      "pygments_lexer": "ipython3",
      "version": "3.9.12"
    },
    "vscode": {
      "interpreter": {
        "hash": "bf6434c5a1aa7c8e434dd054297a02391e6efb1cc4c519f6d78eae818bb65a96"
      }
    }
  },
  "nbformat": 4,
  "nbformat_minor": 0
}
